{
 "cells": [
  {
   "cell_type": "markdown",
   "metadata": {},
   "source": [
    "# 0. Khởi tạo các đường dẫn"
   ]
  },
  {
   "cell_type": "code",
   "execution_count": 1,
   "metadata": {},
   "outputs": [
    {
     "name": "stdout",
     "output_type": "stream",
     "text": [
      "Project directories created:\n",
      "- Data dir: c:\\Users\\tontide1\\Desktop\\ML_ML\\data\n",
      "- Model dir: c:\\Users\\tontide1\\Desktop\\ML_ML\\models\n",
      "- Plots dir: c:\\Users\\tontide1\\Desktop\\ML_ML\\plots\n"
     ]
    }
   ],
   "source": [
    "import os\n",
    "\n",
    "# Create project directories\n",
    "BASE_DIR = os.getcwd()\n",
    "DATA_DIR = os.path.join(BASE_DIR, \"data\")\n",
    "MODEL_DIR = os.path.join(BASE_DIR, \"models\")\n",
    "PLOTS_DIR = os.path.join(BASE_DIR, \"plots\")\n",
    "\n",
    "os.makedirs(DATA_DIR, exist_ok=True)\n",
    "os.makedirs(MODEL_DIR, exist_ok=True)\n",
    "os.makedirs(PLOTS_DIR, exist_ok=True)\n",
    "\n",
    "print(f\"Project directories created:\")\n",
    "print(f\"- Data dir: {DATA_DIR}\")\n",
    "print(f\"- Model dir: {MODEL_DIR}\")\n",
    "print(f\"- Plots dir: {PLOTS_DIR}\")"
   ]
  },
  {
   "cell_type": "markdown",
   "metadata": {},
   "source": [
    "# 1. Tải và đọc dữ liệu"
   ]
  },
  {
   "cell_type": "code",
   "execution_count": 7,
   "metadata": {
    "colab": {
     "base_uri": "https://localhost:8080/"
    },
    "id": "fmMw-kX-IDup",
    "outputId": "60b687a6-bef0-4d4c-acee-f5207577cc1f"
   },
   "outputs": [
    {
     "name": "stderr",
     "output_type": "stream",
     "text": [
      "[nltk_data] Downloading package punkt to\n",
      "[nltk_data]     C:\\Users\\tontide1\\AppData\\Roaming\\nltk_data...\n",
      "[nltk_data]   Package punkt is already up-to-date!\n",
      "[nltk_data] Downloading package punkt_tab to\n",
      "[nltk_data]     C:\\Users\\tontide1\\AppData\\Roaming\\nltk_data...\n",
      "[nltk_data]   Package punkt_tab is already up-to-date!\n"
     ]
    },
    {
     "name": "stdout",
     "output_type": "stream",
     "text": [
      "Đã đọc 42700 files...\r"
     ]
    }
   ],
   "source": [
    "import nltk\n",
    "nltk.download('punkt')\n",
    "nltk.download('punkt_tab')  # Tải thư viện language model của NLTK\n",
    "\n",
    "# Tải dữ liệu và giải nén - giữ nguyên code cũ\n",
    "# !wget https://github.com/hoanganhpham1006/Vietnamese_Language_Model/raw/master/Train_Full.zip\n",
    "# !unzip /content/Train_Full.zip\n",
    "\n",
    "# Đọc dữ liệu - giữ nguyên code cũ\n",
    "import os\n",
    "\n",
    "full = []\n",
    "# Đường dẫn đúng đến thư mục chứa dữ liệu\n",
    "data_dir = os.path.join(os.getcwd(), 'data', 'Train_Full')  \n",
    "\n",
    "if not os.path.exists(data_dir):\n",
    "    print(f\"Thư mục {data_dir} không tồn tại. Vui lòng kiểm tra lại đường dẫn.\")\n",
    "else:\n",
    "    count = 0\n",
    "    for dirname, _, filenames in os.walk(data_dir):\n",
    "        for filename in filenames:\n",
    "            try:\n",
    "                file_path = os.path.join(dirname, filename)\n",
    "                with open(file_path, 'r', encoding='UTF-16') as f:\n",
    "                    full.append(f.read())\n",
    "                count += 1\n",
    "                if count % 100 == 0:\n",
    "                    print(f\"Đã đọc {count} files...\", end=\"\\r\")\n",
    "            except Exception as e:\n",
    "                print(f\"Lỗi khi đọc file {file_path}: {e}\")"
   ]
  },
  {
   "cell_type": "code",
   "execution_count": 8,
   "metadata": {
    "colab": {
     "base_uri": "https://localhost:8080/"
    },
    "id": "d1V7ZjiIIpGq",
    "outputId": "e08008d8-c9da-4edc-ece9-642fa57826d0"
   },
   "outputs": [
    {
     "name": "stderr",
     "output_type": "stream",
     "text": [
      "100%|██████████| 738597/738597 [02:04<00:00, 5943.86it/s]"
     ]
    },
    {
     "name": "stdout",
     "output_type": "stream",
     "text": [
      "Số lượng câu: 738597\n"
     ]
    },
    {
     "name": "stderr",
     "output_type": "stream",
     "text": [
      "\n"
     ]
    }
   ],
   "source": [
    "import re\n",
    "from nltk import word_tokenize\n",
    "import string\n",
    "from tqdm import tqdm\n",
    "\n",
    "def tokenize(doc):\n",
    "    tokens = word_tokenize(doc.lower())\n",
    "    table = str.maketrans('', '', string.punctuation.replace(\"_\", \"\"))\n",
    "    tokens = [w.translate(table) for w in tokens]\n",
    "    tokens = [word for word in tokens if word]\n",
    "    return tokens\n",
    "\n",
    "full_data = \". \".join(full)\n",
    "full_data = full_data.replace(\"\\n\", \". \")\n",
    "corpus = []\n",
    "sents = re.split(r'(?<=[^A-Z].[.?]) +(?=[A-Z])', full_data)\n",
    "for sent in tqdm(sents):\n",
    "    corpus.append(tokenize(sent))\n",
    "\n",
    "print(f\"Số lượng câu: {len(corpus)}\")"
   ]
  },
  {
   "cell_type": "markdown",
   "metadata": {},
   "source": [
    "# 2. Đưa văn bản về không dấu"
   ]
  },
  {
   "cell_type": "code",
   "execution_count": 9,
   "metadata": {
    "colab": {
     "base_uri": "https://localhost:8080/"
    },
    "id": "af_btAceMPNb",
    "outputId": "a2404a85-c1d9-47aa-c0f9-cf12db38f760"
   },
   "outputs": [
    {
     "name": "stderr",
     "output_type": "stream",
     "text": [
      "--2025-05-19 15:44:35--  https://gist.githubusercontent.com/hieuthi/0f5adb7d3f79e7fb67e0e499004bf558/raw/135a4d9716e49a981624474156d6f247b9b46f6a/all-vietnamese-syllables.txt\n",
      "Resolving gist.githubusercontent.com (gist.githubusercontent.com)... 185.199.110.133, 185.199.109.133, 185.199.111.133, ...\n",
      "Connecting to gist.githubusercontent.com (gist.githubusercontent.com)|185.199.110.133|:443... connected.\n",
      "HTTP request sent, awaiting response... 200 OK\n",
      "Length: 116290 (114K) [text/plain]\n",
      "Saving to: 'vn_syllables.txt'\n",
      "\n",
      "     0K .......... .......... .......... .......... .......... 44% 1.06M 0s\n",
      "    50K .......... .......... .......... .......... .......... 88% 1.47M 0s\n",
      "   100K .......... ...                                        100% 55.2M=0.08s\n",
      "\n",
      "2025-05-19 15:44:36 (1.40 MB/s) - 'vn_syllables.txt' saved [116290/116290]\n",
      "\n"
     ]
    }
   ],
   "source": [
    "import re\n",
    "\n",
    "def remove_vn_accent(word):\n",
    "    word = re.sub('[áàảãạăắằẳẵặâấầẩẫậ]', 'a', word)\n",
    "    word = re.sub('[éèẻẽẹêếềểễệ]', 'e', word)\n",
    "    word = re.sub('[óòỏõọôốồổỗộơớờởỡợ]', 'o', word)\n",
    "    word = re.sub('[íìỉĩị]', 'i', word)\n",
    "    word = re.sub('[úùủũụưứừửữự]', 'u', word)\n",
    "    word = re.sub('[ýỳỷỹỵ]', 'y', word)\n",
    "    word = re.sub('đ', 'd', word)\n",
    "    return word\n",
    "\n",
    "# Tải danh sách âm tiết tiếng Việt nếu chưa có\n",
    "!wget -O vn_syllables.txt \"https://gist.githubusercontent.com/hieuthi/0f5adb7d3f79e7fb67e0e499004bf558/raw/135a4d9716e49a981624474156d6f247b9b46f6a/all-vietnamese-syllables.txt\"\n",
    "\n",
    "def gen_accents_word(word):\n",
    "    \"\"\"Tạo các phiên bản có dấu khác nhau của một từ không dấu\"\"\"\n",
    "    word_no_accent = remove_vn_accent(word.lower())\n",
    "    all_accent_word = {word}\n",
    "    for w in open('vn_syllables.txt').read().splitlines():\n",
    "        w_no_accent = remove_vn_accent(w.lower())\n",
    "        if w_no_accent == word_no_accent:\n",
    "            all_accent_word.add(w)\n",
    "    return all_accent_word"
   ]
  },
  {
   "cell_type": "markdown",
   "metadata": {},
   "source": [
    "# 4. Train và lưu mô hình"
   ]
  },
  {
   "cell_type": "code",
   "execution_count": 5,
   "metadata": {
    "colab": {
     "base_uri": "https://localhost:8080/"
    },
    "id": "fFWFhVD3Is85",
    "outputId": "b8cd3917-555f-4d75-de48-e4aa01581182"
   },
   "outputs": [
    {
     "name": "stdout",
     "output_type": "stream",
     "text": [
      "Tạo mô hình trigram NLTK...\n",
      "Bắt đầu huấn luyện mô hình...\n",
      "Hoàn thành huấn luyện. Kích thước từ điển: 104813\n",
      "Đã lưu mô hình vào nltk_trigram_model.pkl\n"
     ]
    }
   ],
   "source": [
    "import pickle\n",
    "import math\n",
    "from nltk.lm.preprocessing import padded_everygram_pipeline\n",
    "from nltk.lm import KneserNeyInterpolated\n",
    "from tqdm import tqdm\n",
    "\n",
    "# Tạo mô hình ngôn ngữ sử dụng NLTK\n",
    "print(\"Tạo mô hình trigram NLTK...\")\n",
    "\n",
    "# Chuẩn bị dữ liệu cho mô hình ngôn ngữ\n",
    "n = 3  # Trigram model\n",
    "train_data, padded_vocab = padded_everygram_pipeline(n, corpus)\n",
    "\n",
    "# Khởi tạo mô hình Kneser-Ney\n",
    "model = KneserNeyInterpolated(n)\n",
    "\n",
    "# Huấn luyện mô hình\n",
    "print(\"Bắt đầu huấn luyện mô hình...\")\n",
    "model.fit(train_data, padded_vocab)\n",
    "print(f\"Hoàn thành huấn luyện. Kích thước từ điển: {len(model.vocab)}\")\n",
    "\n",
    "# Lưu mô hình bằng pickle\n",
    "model_path = \"nltk_trigram_model.pkl\"\n",
    "with open(model_path, 'wb') as fout:\n",
    "    pickle.dump(model, fout)\n",
    "print(f\"Đã lưu mô hình vào {model_path}\")"
   ]
  },
  {
   "cell_type": "markdown",
   "metadata": {},
   "source": [
    "# 5. Thuật toán beam search"
   ]
  },
  {
   "cell_type": "code",
   "execution_count": 34,
   "metadata": {
    "id": "EQ5uErKXLV5X"
   },
   "outputs": [],
   "source": [
    "def beam_search_nltk(words, model, k=3):\n",
    "    \"\"\"\n",
    "    Sử dụng Beam Search để tìm chuỗi từ có dấu với điểm số cao nhất\n",
    "    sử dụng mô hình NLTK\n",
    "\n",
    "    Args:\n",
    "        words: Danh sách các từ không dấu\n",
    "        model: Mô hình ngôn ngữ NLTK\n",
    "        k: Số lượng lựa chọn tốt nhất giữ lại ở mỗi bước\n",
    "    \"\"\"\n",
    "    sequences = []\n",
    "\n",
    "    for idx, word in enumerate(words):\n",
    "        if idx == 0:\n",
    "            # Bước đầu tiên - tạo các phiên bản có dấu của từ đầu tiên\n",
    "            sequences = [([x], 0.0) for x in gen_accents_word(word)]\n",
    "        else:\n",
    "            all_sequences = []\n",
    "\n",
    "            for seq in sequences:\n",
    "                # Với mỗi chuỗi hiện tại, thử tất cả các phiên bản có dấu của từ tiếp theo\n",
    "                for next_word in gen_accents_word(word):\n",
    "                    score = 0\n",
    "\n",
    "                    # Lấy context tối đa 2 từ trước đó cho trigram model\n",
    "                    context = seq[0][-min(2, len(seq[0])):]\n",
    "\n",
    "                    # Tính điểm sử dụng logscore của mô hình NLTK\n",
    "                    try:\n",
    "                        score = model.logscore(next_word, context)\n",
    "                    except (ValueError, KeyError):\n",
    "                        # Xử lý trường hợp context không có trong mô hình\n",
    "                        # Gán giá trị xác suất rất nhỏ\n",
    "                        score = -100\n",
    "\n",
    "                    # Tạo chuỗi mới và cập nhật điểm\n",
    "                    new_seq = seq[0].copy()\n",
    "                    new_seq.append(next_word)\n",
    "                    all_sequences.append((new_seq, seq[1] + score))\n",
    "\n",
    "            # Giữ lại k chuỗi có điểm cao nhất\n",
    "            all_sequences = sorted(all_sequences, key=lambda x: x[1], reverse=True)\n",
    "            sequences = all_sequences[:k]\n",
    "\n",
    "    return sequences"
   ]
  },
  {
   "cell_type": "markdown",
   "metadata": {},
   "source": [
    "# 6. Test mô hình"
   ]
  },
  {
   "cell_type": "code",
   "execution_count": null,
   "metadata": {
    "colab": {
     "base_uri": "https://localhost:8080/"
    },
    "id": "-JvK6lzvLfgy",
    "outputId": "3e8f4805-c637-40fc-c084-1a25964b5cba"
   },
   "outputs": [
    {
     "name": "stdout",
     "output_type": "stream",
     "text": [
      "\n",
      "Câu gốc: toi la nguoi viet nam\n",
      "Top 3 kết quả:\n",
      "1. tôi là người việt nam (score: -14.4853)\n",
      "2. toi la nguoi viet nam (score: -21.4037)\n",
      "3. tôi là người việt nắm (score: -24.2213)\n",
      "\n",
      "Câu gốc: hom nay toi di hoc\n",
      "Top 3 kết quả:\n",
      "1. hôm nay tôi đi học (score: -20.1828)\n",
      "2. hòm này tôi đi học (score: -20.1883)\n",
      "3. hôm nay tôi đi hoc (score: -23.6065)\n",
      "\n",
      "Câu gốc: ngay hom qua la ngay bau cu tong thong My\n"
     ]
    }
   ],
   "source": [
    "from nltk.tokenize.treebank import TreebankWordDetokenizer\n",
    "import pickle\n",
    "\n",
    "detokenize = TreebankWordDetokenizer().detokenize\n",
    "\n",
    "# Tải mô hình đã huấn luyện\n",
    "with open(\"nltk_trigram_model.pkl\", 'rb') as fin:\n",
    "    nltk_model = pickle.load(fin)\n",
    "\n",
    "# Thử nghiệm thêm dấu\n",
    "test_sentences = [\n",
    "    \"toi la nguoi viet nam\",\n",
    "    \"hom nay toi di hoc\",\n",
    "    \"ngay hom qua la ngay bau cu tong thong My\",\n",
    "    \"tieng viet la ngon ngu cua nguoi viet\"\n",
    "]\n",
    "\n",
    "for sentence in test_sentences:\n",
    "    print(f\"\\nCâu gốc: {sentence}\")\n",
    "    result = beam_search_nltk(sentence.lower().split(), nltk_model, k=3)\n",
    "\n",
    "    print(\"Top 3 kết quả:\")\n",
    "    for i, (words, score) in enumerate(result):\n",
    "        print(f\"{i+1}. {detokenize(words)} (score: {score:.4f})\")"
   ]
  },
  {
   "cell_type": "code",
   "execution_count": 14,
   "metadata": {
    "id": "LJquue7kSV58"
   },
   "outputs": [],
   "source": [
    "from nltk.tokenize.treebank import TreebankWordDetokenizer\n",
    "\n",
    "detokenize = TreebankWordDetokenizer().detokenize\n",
    "\n",
    "test_sentence = \"ngay hom qua la ngay bau cu tong thong My\"\n",
    "\n",
    "# Dự đoán từ mô hình\n",
    "predictions = []\n",
    "\n",
    "# Chạy beam search cho câu thử nghiệm\n",
    "result = beam_search_nltk(test_sentence.lower().split(), model=nltk_model, k=3)\n",
    "best_sentence = detokenize(result[0][0])\n",
    "predictions.append(best_sentence)"
   ]
  },
  {
   "cell_type": "markdown",
   "metadata": {},
   "source": [
    "# 7. Đánh giá mô hình với 3 độ đo là accuracy, F1, error_rate"
   ]
  },
  {
   "cell_type": "code",
   "execution_count": 28,
   "metadata": {
    "colab": {
     "base_uri": "https://localhost:8080/"
    },
    "id": "vkrjfECjpqeg",
    "outputId": "287a4fcd-8f78-4511-b2f3-3dbc54833dc9"
   },
   "outputs": [],
   "source": [
    "from nltk.metrics.distance import edit_distance\n",
    "\n",
    "def sentence_level_accuracy(results: list[dict]) -> float:\n",
    "    \"\"\"\n",
    "    Tính độ chính xác ở mức câu cho nhiều cặp câu\n",
    "    \n",
    "    Args:\n",
    "        results: Danh sách các dictionary chứa cặp câu dự đoán và tham chiếu\n",
    "        \n",
    "    Returns:\n",
    "        Tỷ lệ phần trăm số câu được dự đoán chính xác hoàn toàn\n",
    "    \"\"\"\n",
    "    if not results:\n",
    "        return 0.0\n",
    "    \n",
    "    correct_sentences = 0\n",
    "    for res in results:\n",
    "        if res[\"true_accented\"].strip() == res[\"predicted_accented\"].strip():\n",
    "            correct_sentences += 1\n",
    "            \n",
    "    return (correct_sentences / len(results)) * 100\n",
    "\n",
    "def word_level_accuracy(pred, ref):\n",
    "    \"\"\"\n",
    "    Tính độ chính xác ở mức từ (word accuracy)\n",
    "    \n",
    "    Args:\n",
    "        pred: Câu dự đoán\n",
    "        ref: Câu tham chiếu (câu đúng)\n",
    "        \n",
    "    Returns:\n",
    "        Tỷ lệ từ đúng trên tổng số từ trong câu tham chiếu\n",
    "    \"\"\"\n",
    "    pred_words = pred.strip().split()\n",
    "    ref_words = ref.strip().split()\n",
    "    \n",
    "    if not ref_words:\n",
    "        return 0.0\n",
    "    \n",
    "    # Đếm số từ đúng (chỉ so sánh đến độ dài ngắn nhất)\n",
    "    correct_words = 0\n",
    "    len_min = min(len(pred_words), len(ref_words))\n",
    "    \n",
    "    for i in range(len_min):\n",
    "        if pred_words[i] == ref_words[i]:\n",
    "            correct_words += 1\n",
    "    \n",
    "    # Độ chính xác là số từ đúng chia cho tổng số từ trong câu tham chiếu\n",
    "    return correct_words / len(ref_words)\n",
    "\n",
    "def char_level_accuracy(pred, ref):\n",
    "    \"\"\"\n",
    "    Tính độ chính xác ở mức ký tự (character accuracy)\n",
    "    \n",
    "    Args:\n",
    "        pred: Câu dự đoán\n",
    "        ref: Câu tham chiếu (câu đúng)\n",
    "        \n",
    "    Returns:\n",
    "        Tỷ lệ chính xác ở mức ký tự, tính dựa trên edit distance\n",
    "    \"\"\"\n",
    "    pred_str = pred.strip()\n",
    "    ref_str = ref.strip()\n",
    "    \n",
    "    if not ref_str:\n",
    "        return 0.0\n",
    "    \n",
    "    # Tính edit distance giữa chuỗi dự đoán và chuỗi tham chiếu\n",
    "    dist = edit_distance(pred_str, ref_str)\n",
    "    \n",
    "    # Độ chính xác ký tự = 1 - (edit_distance / độ dài chuỗi tham chiếu)\n",
    "    return 1.0 - (dist / len(ref_str))\n",
    "\n",
    "def f1_score(pred, ref):\n",
    "    \"\"\"\n",
    "    Tính F1-score ở mức từ giữa câu dự đoán và câu tham chiếu\n",
    "    \"\"\"\n",
    "    pred_words = set(pred.strip().split())\n",
    "    ref_words = set(ref.strip().split())\n",
    "    if not pred_words or not ref_words:\n",
    "        return 0.0\n",
    "    tp = len(pred_words & ref_words)\n",
    "    fp = len(pred_words - ref_words)\n",
    "    fn = len(ref_words - pred_words)\n",
    "    if tp == 0:\n",
    "        return 0.0\n",
    "    precision = tp / (tp + fp)\n",
    "    recall = tp / (tp + fn)\n",
    "    if precision + recall == 0:\n",
    "        return 0.0\n",
    "    return 2 * precision * recall / (precision + recall)\n",
    "\n",
    "def character_error_rate(pred, ref):\n",
    "    \"\"\"\n",
    "    Tính Character Error Rate (CER) giữa câu dự đoán và câu tham chiếu\n",
    "    \"\"\"\n",
    "    pred_str = pred.strip()\n",
    "    ref_str = ref.strip()\n",
    "    if not ref_str:\n",
    "        return 1.0\n",
    "    dist = edit_distance(pred_str, ref_str)\n",
    "    return dist / len(ref_str)\n",
    "\n",
    "def word_error_rate(pred, ref):\n",
    "    \"\"\"\n",
    "    Tính Word Error Rate (WER) giữa câu dự đoán và câu tham chiếu\n",
    "    \"\"\"\n",
    "    pred_words = pred.strip().split()\n",
    "    ref_words = ref.strip().split()\n",
    "    if not ref_words:\n",
    "        return 1.0\n",
    "    dist = edit_distance(pred_words, ref_words)\n",
    "    return dist / len(ref_words)"
   ]
  },
  {
   "cell_type": "markdown",
   "metadata": {},
   "source": [
    "# 7.1 test"
   ]
  },
  {
   "cell_type": "code",
   "execution_count": null,
   "metadata": {},
   "outputs": [
    {
     "name": "stdout",
     "output_type": "stream",
     "text": [
      "Câu tham chiếu: Ngày hôm qua là ngày bầu cử tổng thống Mỹ\n",
      "Câu dự đoán   : Ngày hôm qua là ngày bầu cứ tổng thông Mỹ\n",
      "Sentence Accuracy         : 0.00%\n",
      "Word Accuracy            : 80.00%\n",
      "Character Accuracy       : 95.12%\n",
      "F1-Score                 : 80.00%\n",
      "Character Error Rate (CER): 4.88%\n",
      "Word Error Rate (WER)     : 20.00%\n"
     ]
    }
   ],
   "source": [
    "# Ví dụ sử dụng\n",
    "reference = \"Ngày hôm qua là ngày bầu cử tổng thống Mỹ\"\n",
    "predicted = \"Ngày hôm qua là ngày bầu cứ tổng thông Mỹ\"\n",
    "\n",
    "# Tính các chỉ số độ chính xác\n",
    "sent_acc = sentence_level_accuracy([{\"predicted_accented\": predicted, \"true_accented\": reference}])\n",
    "word_acc = word_level_accuracy(predicted, reference)\n",
    "char_acc = char_level_accuracy(predicted, reference)\n",
    "f1 = f1_score(predicted, reference)\n",
    "cer = character_error_rate(predicted, reference)\n",
    "wer = word_error_rate(predicted, reference)\n",
    "\n",
    "# Hiển thị kết quả (đổi sang phần trăm)\n",
    "print(f\"Câu tham chiếu: {reference}\")\n",
    "print(f\"Câu dự đoán   : {predicted}\")\n",
    "print(f\"Sentence Accuracy         : {sent_acc:.2f}%\")\n",
    "print(f\"Word Accuracy            : {word_acc * 100:.2f}%\")  \n",
    "print(f\"Character Accuracy       : {char_acc * 100:.2f}%\")\n",
    "print(f\"F1-Score                 : {f1 * 100:.2f}%\")\n",
    "print(f\"Character Error Rate (CER): {cer * 100:.2f}%\")\n",
    "print(f\"Word Error Rate (WER)     : {wer * 100:.2f}%\")"
   ]
  },
  {
   "cell_type": "markdown",
   "metadata": {},
   "source": [
    "# Evaluation"
   ]
  },
  {
   "cell_type": "markdown",
   "metadata": {},
   "source": [
    "## Đánh giá với 300 mẫu dữ liệu trong bộ dữ liệu"
   ]
  },
  {
   "cell_type": "code",
   "execution_count": null,
   "metadata": {},
   "outputs": [
    {
     "data": {
      "image/png": "[encoded data removed]",
      "text/plain": [
       "<Figure size 1000x500 with 1 Axes>"
      ]
     },
     "metadata": {},
     "output_type": "display_data"
    }
   ],
   "source": [
    "import matplotlib.pyplot as plt\n",
    "from nltk.tokenize.treebank import TreebankWordDetokenizer\n",
    "from nltk.metrics.distance import edit_distance\n",
    "import pickle\n",
    "\n",
    "# Lấy 300 câu đầu tiên có dấu\n",
    "sentences_with_accent = []\n",
    "for para in full:\n",
    "    for sent in para.split('.'):\n",
    "        s = sent.strip()\n",
    "        if len(s.split()) > 1:  # chỉ lấy câu đủ dài\n",
    "            sentences_with_accent.append(s)\n",
    "        if len(sentences_with_accent) >= 10:\n",
    "            break\n",
    "    if len(sentences_with_accent) >= 300:\n",
    "        break\n",
    "\n",
    "print(\"Số câu lấy được:\", 300)\n",
    "if len(sentences_with_accent) == 0:\n",
    "    print(\"Không có câu nào đủ điều kiện trong dữ liệu!\")\n",
    "else:\n",
    "    # Tạo câu không dấu\n",
    "    sentences_no_accent = [' '.join([remove_vn_accent(w) for w in s.split()]) for s in sentences_with_accent]\n",
    "\n",
    "    # Load mô hình\n",
    "    with open('nltk_trigram_model.pkl', 'rb') as fin:\n",
    "        nltk_model = pickle.load(fin)\n",
    "\n",
    "    detokenize = TreebankWordDetokenizer().detokenize\n",
    "\n",
    "    # Hàm beam_search_nltk đã có sẵn\n",
    "    results = []\n",
    "    for i in range(len(sentences_no_accent)):\n",
    "        input_words = sentences_no_accent[i].split()\n",
    "        beam_results = beam_search_nltk(input_words, nltk_model, k=3)\n",
    "        best_sentence = detokenize(beam_results[0][0])\n",
    "        results.append({\n",
    "            'true_accented': sentences_with_accent[i],\n",
    "            'predicted_accented': best_sentence\n",
    "        })\n",
    "\n",
    "    # Tính các chỉ số\n",
    "    sent_acc = sentence_level_accuracy(results)\n",
    "    word_acc = sum([word_level_accuracy(r['predicted_accented'], r['true_accented']) for r in results]) / len(results) * 100\n",
    "    char_acc = sum([char_level_accuracy(r['predicted_accented'], r['true_accented']) for r in results]) / len(results) * 100\n",
    "    f1 = sum([f1_score(r['predicted_accented'], r['true_accented']) for r in results]) / len(results) * 100\n",
    "    cer = sum([character_error_rate(r['predicted_accented'], r['true_accented']) for r in results]) / len(results) * 100\n",
    "    wer = sum([word_error_rate(r['predicted_accented'], r['true_accented']) for r in results]) / len(results) * 100\n",
    "\n",
    "\n",
    "    print(f'Sentence Accuracy: {sent_acc:.2f}%')\n",
    "    print(f'Word Accuracy    : {word_acc:.2f}%')\n",
    "    print(f'Character Accuracy: {char_acc:.2f}%')\n",
    "    print(f'F1-Score           : {f1:.2f}%')\n",
    "    print(f'Character Error Rate (CER): {cer:.2f}%')\n",
    "    print(f'Word Error Rate (WER)     : {wer:.2f}%')\n",
    "\n",
    "    # Trực quan hóa\n",
    "    labels = ['Sentence', 'Word', 'Character', 'F1', 'CER', 'WER']\n",
    "    values = ['sent_acc', 'word_acc', 'char_acc', 'f1', 'cer', 'wer']\n",
    "\n",
    "    plt.style.use('default')\n",
    "    plt.figure(figsize=(10,5))\n",
    "    # bars = plt.bar(labels, values, color=['viridis'])\n",
    "    bars = plt.bar(labels, values, color=sns.color_palette(\"viridis\", len(labels)) if 'sns' in globals() else None)\n",
    "    \n",
    "    plt.ylim(0, 100)\n",
    "    plt.ylabel('Tỉ lệ (%) hoặc Error Rate (%)')\n",
    "    plt.title('Đánh giá mô hình NLTK Trigram trên 300 câu')\n",
    "    # plt.grid(axis='y', alpha=0.7)  # Thêm lưới ngang\n",
    "\n",
    "    for i, v in enumerate(values):\n",
    "        plt.text(i, v + 1, f'{v:.2f}%', ha='center', fontweight='bold')\n",
    "    plt.show()\n",
    "\n"
   ]
  },
  {
   "cell_type": "markdown",
   "metadata": {},
   "source": [
    "# Đánh giá trên tệp data test.txt"
   ]
  },
  {
   "cell_type": "code",
   "execution_count": 19,
   "metadata": {},
   "outputs": [
    {
     "data": {
      "image/png": "[encoded data removed]",
      "text/plain": [
       "<Figure size 1000x500 with 1 Axes>"
      ]
     },
     "metadata": {},
     "output_type": "display_data"
    }
   ],
   "source": [
    "# Model paths\n",
    "MODEL_PATH = os.path.join(MODEL_DIR, \"nltk_trigram_model.pkl\")\n",
    "SYLLABLES_PATH = os.path.join(DATA_DIR, \"vn_syllables.txt\")\n",
    "\n",
    "# Test data paths\n",
    "TEST_FILE = os.path.join(BASE_DIR, \"test.txt\")\n",
    "GROUND_TRUTH_FILE = os.path.join(BASE_DIR, \"test_result.txt\")\n",
    "\n",
    "# Ensure output directories exist\n",
    "os.makedirs(PLOTS_DIR, exist_ok=True)\n",
    "\n",
    "# Create a detokenizer\n",
    "_detokenizer = TreebankWordDetokenizer()\n",
    "\n",
    "def evaluate_model_on_test_file():\n",
    "\n",
    "    # Load the model\n",
    "    model = load_model(MODEL_PATH)\n",
    "    if model is None:\n",
    "        print(\"Failed to load model. Exiting.\")\n",
    "        return\n",
    "\n",
    "    # Check if test and ground truth files exist\n",
    "    if not os.path.exists(TEST_FILE):\n",
    "        print(f\"Test file not found: {TEST_FILE}\")\n",
    "        return\n",
    "\n",
    "    if not os.path.exists(GROUND_TRUTH_FILE):\n",
    "        print(f\"Ground truth file not found: {GROUND_TRUTH_FILE}\")\n",
    "        return\n",
    "\n",
    "    # Read test data and ground truth\n",
    "    try:\n",
    "        with open(TEST_FILE, 'r', encoding='utf-8') as f:\n",
    "            test_lines = [line.strip() for line in f.readlines() if line.strip()]\n",
    "\n",
    "        with open(GROUND_TRUTH_FILE, 'r', encoding='utf-8') as f:\n",
    "            ground_truth_lines = [line.strip() for line in f.readlines() if line.strip()]\n",
    "\n",
    "        if len(test_lines) != len(ground_truth_lines):\n",
    "            print(f\"Warning: Test file has {len(test_lines)} non-empty lines, but ground truth has {len(ground_truth_lines)}.\")\n",
    "            print(\"Will evaluate only on paired lines.\")\n",
    "    except Exception as e:\n",
    "        print(f\"Error reading test files: {e}\")\n",
    "        return\n",
    "\n",
    "    # Prepare for evaluation\n",
    "    print(f\"\\nEvaluating on {min(len(test_lines), len(ground_truth_lines))} sentences...\")\n",
    "    evaluation_results = []\n",
    "\n",
    "    # Process each line\n",
    "    for i, (test_line, true_line) in enumerate(zip(test_lines, ground_truth_lines)):\n",
    "\n",
    "        # Make prediction\n",
    "        predictions = beam_search_nltk(test_line.lower().split(), model=model, k=3)\n",
    "\n",
    "        predicted_text = predictions[0][0] if predictions else \"\"\n",
    "\n",
    "        # Store result\n",
    "        result = {\n",
    "            \"input_unaccented\": test_line,\n",
    "            \"true_accented\": true_line,\n",
    "            \"predicted_accented\": predicted_text\n",
    "        }\n",
    "        evaluation_results.append(result)\n",
    "\n",
    "\n",
    "    # Calculate metrics\n",
    "    sent_accuracy = sentence_level_accuracy(evaluation_results)\n",
    "    word_accuracy = word_accuracy(evaluation_results)\n",
    "    char_accuracy = char_accuracy(evaluation_results)\n",
    "    f1 = f1_score(evaluation_results)\n",
    "    char_error_rate = character_error_rate(evaluation_results)\n",
    "    word_error_rate = word_error_rate(evaluation_results)\n",
    "    \n",
    "\n",
    "    # Trực quan hóa\n",
    "    labels = ['Sentence', 'Word', 'Character', 'F1', 'CER', 'WER']\n",
    "    values = [sent_accuracy, word_accuracy, char_accuracy, f1, char_error_rate, word_error_rate]\n",
    "\n",
    "    plt.style.use('default')\n",
    "    plt.figure(figsize=(10,5))\n",
    "    bars = plt.bar(labels, values, color=['skyblue'])\n",
    "    plt.ylim(0, 100)\n",
    "    plt.ylabel('Tỉ lệ (%) hoặc Error Rate (%)')\n",
    "    plt.title('Đánh giá mô hình NLTK Trigram trên 300 câu')\n",
    "    plt.grid(axis='y', linestyle='--', alpha=0.7)  # Thêm lưới ngang\n",
    "\n",
    "    for i, v in enumerate(values):\n",
    "        plt.text(i, v + 1, f'{v:.2f}%', ha='center', fontweight='bold')\n",
    "    plt.show()\n",
    "\n"
   ]
  }
 ],
 "metadata": {
  "colab": {
   "provenance": []
  },
  "kernelspec": {
   "display_name": "ML",
   "language": "python",
   "name": "python3"
  },
  "language_info": {
   "codemirror_mode": {
    "name": "ipython",
    "version": 3
   },
   "file_extension": ".py",
   "mimetype": "text/x-python",
   "name": "python",
   "nbconvert_exporter": "python",
   "pygments_lexer": "ipython3",
   "version": "3.11.11"
  }
 },
 "nbformat": 4,
 "nbformat_minor": 0
}
